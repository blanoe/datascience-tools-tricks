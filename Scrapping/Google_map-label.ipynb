This function allow you to add the type of an address in mutliple address store in dataframe
